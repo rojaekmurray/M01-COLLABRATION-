{
 "cells": [
  {
   "cell_type": "code",
   "execution_count": 1,
   "id": "a23d980a",
   "metadata": {},
   "outputs": [
    {
     "name": "stdout",
     "output_type": "stream",
     "text": [
      "Guess value is =  9\n",
      "Secret value is =  6\n",
      "too high!\n"
     ]
    }
   ],
   "source": [
    "#4.1\n",
    "\n",
    "import random\n",
    "\n",
    "secret = random.randint(1,10)\n",
    "guess = random.randint(1,10)\n",
    "\n",
    "print(\"Guess value is = \", guess)\n",
    "print(\"Secret value is = \", secret)\n",
    "\n",
    "if guess < secret:\n",
    "    print(\"too low!\")\n",
    "\n",
    "elif guess > secret:\n",
    "    print(\"too high!\")\n",
    "\n",
    "else:\n",
    "    print(\"just right!\")"
   ]
  },
  {
   "cell_type": "code",
   "execution_count": 2,
   "id": "051c004d",
   "metadata": {},
   "outputs": [
    {
     "name": "stdout",
     "output_type": "stream",
     "text": [
      "cherry\n"
     ]
    }
   ],
   "source": [
    "#4.2\n",
    "\n",
    "small = True\n",
    "green = False\n",
    "if small and green:\n",
    "    print(\"pea\")\n",
    "elif small and not green:\n",
    "    print(\"cherry\")\n",
    "elif not small and green:\n",
    "    print(\"watermelon\")\n",
    "elif not small and not green:\n",
    "    print(\"pumpkin\")"
   ]
  },
  {
   "cell_type": "code",
   "execution_count": null,
   "id": "0fafd987",
   "metadata": {},
   "outputs": [],
   "source": []
  }
 ],
 "metadata": {
  "kernelspec": {
   "display_name": "Python 3 (ipykernel)",
   "language": "python",
   "name": "python3"
  },
  "language_info": {
   "codemirror_mode": {
    "name": "ipython",
    "version": 3
   },
   "file_extension": ".py",
   "mimetype": "text/x-python",
   "name": "python",
   "nbconvert_exporter": "python",
   "pygments_lexer": "ipython3",
   "version": "3.9.12"
  }
 },
 "nbformat": 4,
 "nbformat_minor": 5
}
