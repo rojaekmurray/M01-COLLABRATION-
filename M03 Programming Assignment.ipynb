{
 "cells": [
  {
   "cell_type": "code",
   "execution_count": 4,
   "id": "233581ee",
   "metadata": {},
   "outputs": [
    {
     "name": "stdout",
     "output_type": "stream",
     "text": [
      "['Harry', 'Ron', 'Hermione']\n"
     ]
    }
   ],
   "source": [
    "9.1\n",
    "\n",
    "\n",
    "def good():\n",
    "    return ['Harry', 'Ron', 'Hermione']\n",
    "\n",
    "\n",
    "print(good())\n"
   ]
  },
  {
   "cell_type": "code",
   "execution_count": 6,
   "id": "22a53180",
   "metadata": {},
   "outputs": [
    {
     "name": "stdout",
     "output_type": "stream",
     "text": [
      "5\n"
     ]
    }
   ],
   "source": [
    "9.2\n",
    "\n",
    "limit = 10\n",
    "get_odds = (num for num in range(limit) if not num % 2 == 0)\n",
    "count = 0\n",
    "for num in get_odds:\n",
    "    if count == 2:\n",
    "        print(num)\n",
    "        break\n",
    "    count += 1"
   ]
  },
  {
   "cell_type": "code",
   "execution_count": 9,
   "id": "397d9adf",
   "metadata": {},
   "outputs": [
    {
     "name": "stdout",
     "output_type": "stream",
     "text": [
      "[1980, 1981, 1982, 1983, 1984, 1985]\n"
     ]
    }
   ],
   "source": [
    "7.1\n",
    "\n",
    "year_of_birth = 1980\n",
    "years_list = list()\n",
    "years_count = 6\n",
    "for i in range(0, years_count):\n",
    "    new_year = year_of_birth + i\n",
    "    years_list.append(new_year)\n",
    "print(years_list)  # [1980, 1981, 1982, 1983, 1984, 1985]"
   ]
  },
  {
   "cell_type": "code",
   "execution_count": 12,
   "id": "4c1d924f",
   "metadata": {},
   "outputs": [
    {
     "name": "stdout",
     "output_type": "stream",
     "text": [
      "1982\n"
     ]
    }
   ],
   "source": [
    "7.2\n",
    "\n",
    "age_wanted = 3\n",
    "year_with_age_wanted = year_of_birth + age_wanted\n",
    "that_year_with_age = years_list[years_list.index(year_with_age_wanted)]\n",
    "print(that_year_with_age)"
   ]
  },
  {
   "cell_type": "code",
   "execution_count": 14,
   "id": "f0e7845a",
   "metadata": {},
   "outputs": [
    {
     "name": "stdout",
     "output_type": "stream",
     "text": [
      "1985\n"
     ]
    }
   ],
   "source": [
    "7.3\n",
    "\n",
    "years_list.sort()  # sort year incorrect order first\n",
    "years_with_max_age = years_list[-1]\n",
    "print(years_with_max_age)  # 1985"
   ]
  },
  {
   "cell_type": "code",
   "execution_count": 17,
   "id": "8727df46",
   "metadata": {},
   "outputs": [
    {
     "name": "stdout",
     "output_type": "stream",
     "text": [
      "['mozzarella', 'Cinderella', 'salmonella']\n"
     ]
    }
   ],
   "source": [
    "7.4\n",
    "things = [\"mozzarella\", \"cinderella\", \"salmonella\"]\n",
    "person_name = 'cinderella'\n",
    "things[things.index(person_name)] = things[things.index(\n",
    "    person_name)].capitalize()\n",
    "print(things)"
   ]
  },
  {
   "cell_type": "code",
   "execution_count": null,
   "id": "41ffb670",
   "metadata": {},
   "outputs": [],
   "source": []
  }
 ],
 "metadata": {
  "kernelspec": {
   "display_name": "Python 3 (ipykernel)",
   "language": "python",
   "name": "python3"
  },
  "language_info": {
   "codemirror_mode": {
    "name": "ipython",
    "version": 3
   },
   "file_extension": ".py",
   "mimetype": "text/x-python",
   "name": "python",
   "nbconvert_exporter": "python",
   "pygments_lexer": "ipython3",
   "version": "3.9.12"
  }
 },
 "nbformat": 4,
 "nbformat_minor": 5
}
