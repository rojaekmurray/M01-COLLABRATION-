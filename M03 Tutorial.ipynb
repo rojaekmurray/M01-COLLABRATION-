{
 "cells": [
  {
   "cell_type": "code",
   "execution_count": 5,
   "id": "3dc5c3a4",
   "metadata": {},
   "outputs": [
    {
     "name": "stdout",
     "output_type": "stream",
     "text": [
      "[25, 16, 9]\n",
      "[(10, -1), (0, 2), (4, 3), (9, 9)]\n"
     ]
    }
   ],
   "source": [
    "#146\n",
    "\n",
    "#Square\n",
    "my_list = [5, 4, 3]\n",
    "\n",
    "print(list(map(lambda item: item**2, my_list)))\n",
    "\n",
    "#List Sorting\n",
    "a = [(0, 2), (4, 3), (9, 9), (10, -1)]\n",
    "print(sorted(a, key=lambda item: item[1]))"
   ]
  },
  {
   "cell_type": "code",
   "execution_count": 8,
   "id": "0ca20419",
   "metadata": {},
   "outputs": [
    {
     "name": "stdout",
     "output_type": "stream",
     "text": [
      "Simon is just walking around\n",
      "Sally is just walking around\n",
      "Suzy is just walking around\n"
     ]
    }
   ],
   "source": [
    "#130\n",
    "\n",
    "class Pets():\n",
    "    animals = []\n",
    "    def __init__(self, animals):\n",
    "        self.animals = animals\n",
    "      \n",
    "    def walk(self):\n",
    "        for animal in self.animals:\n",
    "            print(animal.walk())\n",
    "  \n",
    "class Cat():\n",
    "    is_lazy = True\n",
    "    \n",
    "    def __init__(self, name, age):\n",
    "        self.name = name\n",
    "        self.age = age\n",
    "      \n",
    "    def walk(self):\n",
    "        return f'{self.name} is just walking around'\n",
    "  \n",
    "class Simon(Cat):\n",
    "    def sing(self, sounds):\n",
    "        return f'{sounds}'\n",
    "  \n",
    "class Sally(Cat):\n",
    "    def sing(self, sounds):\n",
    "        return f'{sounds}'\n",
    "  \n",
    "\n",
    "class Suzy(Cat):\n",
    "    def sing(self, sounds):\n",
    "        return f'{sounds}'\n",
    "\n",
    "my_cats = [Simon('Simon', 4), Sally('Sally', 21), Suzy('Suzy', 1)]\n",
    "\n",
    "my_pets = Pets(my_cats)\n",
    "\n",
    "my_pets.walk()"
   ]
  },
  {
   "cell_type": "code",
   "execution_count": null,
   "id": "a437a3d0",
   "metadata": {},
   "outputs": [],
   "source": []
  }
 ],
 "metadata": {
  "kernelspec": {
   "display_name": "Python 3 (ipykernel)",
   "language": "python",
   "name": "python3"
  },
  "language_info": {
   "codemirror_mode": {
    "name": "ipython",
    "version": 3
   },
   "file_extension": ".py",
   "mimetype": "text/x-python",
   "name": "python",
   "nbconvert_exporter": "python",
   "pygments_lexer": "ipython3",
   "version": "3.9.12"
  }
 },
 "nbformat": 4,
 "nbformat_minor": 5
}
