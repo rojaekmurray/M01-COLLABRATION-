{
 "cells": [
  {
   "cell_type": "code",
   "execution_count": 1,
   "id": "c55fdb7c",
   "metadata": {},
   "outputs": [],
   "source": [
    "from datetime import datetime, date\n",
    "cur_day = date.today()\n",
    "set_day = cur_day.isoformat()\n",
    "with open('today.txt', 'wt') as output:\n",
    "    print(set_day, file=output)"
   ]
  },
  {
   "cell_type": "code",
   "execution_count": 2,
   "id": "b5359780",
   "metadata": {},
   "outputs": [
    {
     "data": {
      "text/plain": [
       "'2022-10-03\\n'"
      ]
     },
     "execution_count": 2,
     "metadata": {},
     "output_type": "execute_result"
    }
   ],
   "source": [
    "with open('today.txt', 'rt') as i:\n",
    "    get_day = i.read()\n",
    "get_day"
   ]
  },
  {
   "cell_type": "code",
   "execution_count": 3,
   "id": "aff2bc11",
   "metadata": {},
   "outputs": [
    {
     "data": {
      "text/plain": [
       "datetime.datetime(2022, 10, 3, 0, 0)"
      ]
     },
     "execution_count": 3,
     "metadata": {},
     "output_type": "execute_result"
    }
   ],
   "source": [
    "ymd = '%Y-%m-%d\\n'\n",
    "datetime.strptime(get_day, ymd)"
   ]
  },
  {
   "cell_type": "code",
   "execution_count": null,
   "id": "dd171b68",
   "metadata": {},
   "outputs": [],
   "source": []
  }
 ],
 "metadata": {
  "kernelspec": {
   "display_name": "Python 3 (ipykernel)",
   "language": "python",
   "name": "python3"
  },
  "language_info": {
   "codemirror_mode": {
    "name": "ipython",
    "version": 3
   },
   "file_extension": ".py",
   "mimetype": "text/x-python",
   "name": "python",
   "nbconvert_exporter": "python",
   "pygments_lexer": "ipython3",
   "version": "3.9.12"
  }
 },
 "nbformat": 4,
 "nbformat_minor": 5
}
